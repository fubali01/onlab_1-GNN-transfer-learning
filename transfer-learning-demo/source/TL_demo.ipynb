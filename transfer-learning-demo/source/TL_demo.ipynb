{
  "cells": [
    {
      "cell_type": "markdown",
      "metadata": {},
      "source": [
        "## Imports"
      ]
    },
    {
      "cell_type": "code",
      "execution_count": 2,
      "metadata": {
        "id": "FAammikitUbH"
      },
      "outputs": [],
      "source": [
        "import torch\n",
        "import torch.optim as optim\n",
        "import torch.nn as nn\n",
        "import torch.nn.functional as F\n",
        "\n",
        "from torch.utils.data import DataLoader, Dataset, random_split, TensorDataset\n",
        "from torchvision.transforms import Compose, ToTensor, Normalize, Resize, ToPILImage, CenterCrop, RandomResizedCrop\n",
        "from torchvision.datasets import ImageFolder\n",
        "from torchvision.models import alexnet, resnet18, inception_v3\n",
        "\n",
        "from torchvision.models.alexnet import AlexNet_Weights\n",
        "from torchvision.models.inception import Inception_V3_Weights\n",
        "from torchvision.models.resnet import ResNet18_Weights\n",
        "\n",
        "data_path = \"../data/\""
      ]
    },
    {
      "cell_type": "markdown",
      "metadata": {},
      "source": [
        "## Data preparation"
      ]
    },
    {
      "cell_type": "code",
      "execution_count": 3,
      "metadata": {},
      "outputs": [
        {
          "name": "stdout",
          "output_type": "stream",
          "text": [
            "rps folder already exists!\n",
            "rps-test-set folder already exists!\n"
          ]
        }
      ],
      "source": [
        "from download_rps import download_rps\n",
        "\n",
        "train_data_path = data_path + \"rps\"\n",
        "val_data_path = data_path + \"rps-test-set\"\n",
        "download_rps(data_path)"
      ]
    },
    {
      "cell_type": "code",
      "execution_count": 4,
      "metadata": {},
      "outputs": [],
      "source": [
        "# ImageNet statistics\n",
        "normalizer = Normalize(mean=[0.485, 0.456, 0.406], std=[0.229, 0.224, 0.225])\n",
        "transformer = Compose([Resize(256), CenterCrop(224), ToTensor(), normalizer])\n",
        "\n",
        "#transformer = ResNet18_Weights.IMAGENET1K_V1.transforms\n",
        "\n",
        "train_data = ImageFolder(root=train_data_path, transform=transformer)\n",
        "val_data = ImageFolder(root=val_data_path, transform=transformer)\n",
        "\n",
        "# Builds a loader of each set\n",
        "train_loader = DataLoader(train_data, batch_size=16, shuffle=True)\n",
        "val_loader = DataLoader(val_data, batch_size=16)"
      ]
    },
    {
      "cell_type": "markdown",
      "metadata": {},
      "source": [
        "## Feature extraction"
      ]
    },
    {
      "cell_type": "markdown",
      "metadata": {},
      "source": [
        "### Model configuration"
      ]
    },
    {
      "cell_type": "code",
      "execution_count": 5,
      "metadata": {},
      "outputs": [],
      "source": [
        "def freeze_model(model):\n",
        "    for parameter in model.parameters():\n",
        "        parameter.requires_grad = False\n",
        "\n",
        "# Set the seed\n",
        "torch.manual_seed(42)\n",
        "\n",
        "# Load the model\n",
        "resnet = resnet18(weights=ResNet18_Weights.DEFAULT)\n",
        "\n",
        "# Change the top layer to Identity\n",
        "resnet.fc = nn.Identity()\n",
        "# Freeze the model\n",
        "freeze_model(resnet)"
      ]
    },
    {
      "cell_type": "markdown",
      "metadata": {},
      "source": [
        "### Preprocess data"
      ]
    },
    {
      "cell_type": "code",
      "execution_count": 37,
      "metadata": {},
      "outputs": [],
      "source": [
        "def preprocess_dataset(model, dataset):\n",
        "    features = torch.Tensor()\n",
        "    labels = torch.Tensor()\n",
        "    for x, y in dataset:\n",
        "        model.eval()\n",
        "        features = torch.cat([features, model(x)])\n",
        "        labels = torch.cat([labels, y])\n",
        "\n",
        "    dataset = TensorDataset(features, labels)\n",
        "    return dataset\n",
        "\n",
        "# Preprocess the data\n",
        "train_preproc = preprocess_dataset(resnet, train_loader)\n",
        "val_preproc = preprocess_dataset(resnet, val_loader)"
      ]
    },
    {
      "cell_type": "markdown",
      "metadata": {},
      "source": [
        "### Save features"
      ]
    },
    {
      "cell_type": "code",
      "execution_count": 8,
      "metadata": {},
      "outputs": [],
      "source": [
        "train_preproc_path = data_path + \"train_preproc.pth\"\n",
        "val_preproc_path = data_path + \"val_preproc.pth\"\n",
        "torch.save(train_preproc.tensors, train_preproc_path)\n",
        "torch.save(val_preproc.tensors, val_preproc_path)"
      ]
    },
    {
      "cell_type": "markdown",
      "metadata": {},
      "source": [
        "### Load features"
      ]
    },
    {
      "cell_type": "code",
      "execution_count": 9,
      "metadata": {},
      "outputs": [],
      "source": [
        "train_preproc_path = data_path + \"train_preproc.pth\"\n",
        "val_preproc_path = data_path + \"val_preproc.pth\"\n",
        "train_preproc_data = TensorDataset(*torch.load(train_preproc_path))\n",
        "val_preproc_data = TensorDataset(*torch.load(val_preproc_path))\n",
        "train_preproc_loader = DataLoader(train_preproc_data, batch_size=16, shuffle=True)\n",
        "val_preproc_loader = DataLoader(val_preproc_data, batch_size=16)"
      ]
    },
    {
      "cell_type": "markdown",
      "metadata": {},
      "source": [
        "## Top model"
      ]
    },
    {
      "cell_type": "markdown",
      "metadata": {},
      "source": [
        "### Model configuration"
      ]
    },
    {
      "cell_type": "code",
      "execution_count": 10,
      "metadata": {},
      "outputs": [],
      "source": [
        "torch.manual_seed(42)\n",
        "top_model = nn.Sequential(nn.Linear(512, 3))\n",
        "multi_loss_fn = nn.CrossEntropyLoss(reduction='mean')\n",
        "optimizer_top = optim.Adam(top_model.parameters(), lr=3e-4)"
      ]
    },
    {
      "cell_type": "markdown",
      "metadata": {},
      "source": [
        "### Model training"
      ]
    },
    {
      "cell_type": "code",
      "execution_count": 11,
      "metadata": {},
      "outputs": [],
      "source": [
        "from stepbystep import StepByStep\n",
        "\n",
        "sbs_top = StepByStep(top_model, multi_loss_fn, optimizer_top)\n",
        "sbs_top.set_loaders(train_preproc_loader, val_preproc_loader)\n",
        "sbs_top.train(10)"
      ]
    },
    {
      "cell_type": "markdown",
      "metadata": {},
      "source": [
        "### Evaluation"
      ]
    },
    {
      "cell_type": "code",
      "execution_count": 17,
      "metadata": {},
      "outputs": [
        {
          "data": {
            "text/plain": [
              "tensor([[ 94, 124],\n",
              "        [124, 124],\n",
              "        [100, 124]])"
            ]
          },
          "execution_count": 17,
          "metadata": {},
          "output_type": "execute_result"
        }
      ],
      "source": [
        "StepByStep.loader_apply(val_preproc_loader, sbs_top.correct)"
      ]
    },
    {
      "cell_type": "markdown",
      "metadata": {},
      "source": [
        "## Using the original dataset"
      ]
    },
    {
      "cell_type": "markdown",
      "metadata": {},
      "source": [
        "### Reattach the top model"
      ]
    },
    {
      "cell_type": "code",
      "execution_count": 13,
      "metadata": {},
      "outputs": [],
      "source": [
        "resnet.fc = top_model\n",
        "sbs_temp = StepByStep(resnet, None, None)"
      ]
    },
    {
      "cell_type": "markdown",
      "metadata": {},
      "source": [
        "### Evaluate"
      ]
    },
    {
      "cell_type": "code",
      "execution_count": 14,
      "metadata": {},
      "outputs": [
        {
          "data": {
            "text/plain": [
              "tensor([[ 94, 124],\n",
              "        [124, 124],\n",
              "        [100, 124]])"
            ]
          },
          "execution_count": 14,
          "metadata": {},
          "output_type": "execute_result"
        }
      ],
      "source": [
        "StepByStep.loader_apply(val_loader, sbs_temp.correct)"
      ]
    }
  ],
  "metadata": {
    "colab": {
      "provenance": []
    },
    "kernelspec": {
      "display_name": "Python 3",
      "name": "python3"
    },
    "language_info": {
      "codemirror_mode": {
        "name": "ipython",
        "version": 3
      },
      "file_extension": ".py",
      "mimetype": "text/x-python",
      "name": "python",
      "nbconvert_exporter": "python",
      "pygments_lexer": "ipython3",
      "version": "3.12.3"
    }
  },
  "nbformat": 4,
  "nbformat_minor": 0
}
