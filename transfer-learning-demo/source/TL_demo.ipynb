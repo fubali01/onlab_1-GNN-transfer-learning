{
  "cells": [
    {
      "cell_type": "markdown",
      "metadata": {},
      "source": [
        "## Imports"
      ]
    },
    {
      "cell_type": "code",
      "execution_count": 46,
      "metadata": {
        "id": "FAammikitUbH"
      },
      "outputs": [],
      "source": [
        "import torch\n",
        "import torch.optim as optim\n",
        "import torch.nn as nn\n",
        "import torch.nn.functional as F\n",
        "\n",
        "from torch.utils.data import DataLoader, Dataset, random_split, TensorDataset\n",
        "from torchvision.transforms import Compose, ToTensor, Normalize, Resize, ToPILImage, CenterCrop, RandomResizedCrop\n",
        "from torchvision.datasets import ImageFolder\n",
        "from torchvision.models import alexnet, resnet18, inception_v3\n",
        "\n",
        "from torchvision.models.alexnet import AlexNet_Weights\n",
        "from torchvision.models.inception import Inception_V3_Weights\n",
        "from torchvision.models.resnet import ResNet18_Weights\n",
        "\n",
        "data_path = \"../data/\""
      ]
    },
    {
      "cell_type": "markdown",
      "metadata": {},
      "source": [
        "## Data preparation"
      ]
    },
    {
      "cell_type": "code",
      "execution_count": 73,
      "metadata": {},
      "outputs": [
        {
          "name": "stdout",
          "output_type": "stream",
          "text": [
            "rps folder already exists!\n",
            "rps-test-set folder already exists!\n"
          ]
        }
      ],
      "source": [
        "from download_rps import download_rps\n",
        "\n",
        "train_data_path = data_path + \"rps\"\n",
        "val_data_path = data_path + \"rps-test-set\"\n",
        "download_rps(data_path)\n",
        "class_names = [\"paper\", \"rock\", \"scissors\"]"
      ]
    },
    {
      "cell_type": "code",
      "execution_count": 48,
      "metadata": {},
      "outputs": [],
      "source": [
        "# ImageNet statistics\n",
        "normalizer = Normalize(mean=[0.485, 0.456, 0.406], std=[0.229, 0.224, 0.225])\n",
        "transformer = Compose([Resize(256), CenterCrop(224), ToTensor(), normalizer])\n",
        "\n",
        "#transformer = ResNet18_Weights.IMAGENET1K_V1.transforms\n",
        "\n",
        "train_data = ImageFolder(root=train_data_path, transform=transformer)\n",
        "val_data = ImageFolder(root=val_data_path, transform=transformer)\n",
        "\n",
        "# Builds a loader of each set\n",
        "train_loader = DataLoader(train_data, batch_size=16, shuffle=True)\n",
        "val_loader = DataLoader(val_data, batch_size=16)"
      ]
    },
    {
      "cell_type": "markdown",
      "metadata": {},
      "source": [
        "## Feature extraction"
      ]
    },
    {
      "cell_type": "markdown",
      "metadata": {},
      "source": [
        "### Model configuration"
      ]
    },
    {
      "cell_type": "code",
      "execution_count": 49,
      "metadata": {},
      "outputs": [],
      "source": [
        "def freeze_model(model):\n",
        "    for parameter in model.parameters():\n",
        "        parameter.requires_grad = False\n",
        "\n",
        "# Set the seed\n",
        "torch.manual_seed(42)\n",
        "\n",
        "# Load the model\n",
        "resnet = resnet18(weights=ResNet18_Weights.DEFAULT)\n",
        "\n",
        "# Change the top layer to Identity\n",
        "resnet.fc = nn.Identity()\n",
        "# Freeze the model\n",
        "freeze_model(resnet)"
      ]
    },
    {
      "cell_type": "markdown",
      "metadata": {},
      "source": [
        "### Preprocess data"
      ]
    },
    {
      "cell_type": "code",
      "execution_count": 50,
      "metadata": {},
      "outputs": [],
      "source": [
        "def preprocess_dataset(model, dataset):\n",
        "    features = torch.Tensor()\n",
        "    labels = torch.Tensor()\n",
        "    for x, y in dataset:\n",
        "        model.eval()\n",
        "        features = torch.cat([features, model(x)])\n",
        "        labels = torch.cat([labels, y])\n",
        "\n",
        "    dataset = TensorDataset(features, labels)\n",
        "    return dataset\n",
        "\n",
        "# Preprocess the data\n",
        "train_preproc = preprocess_dataset(resnet, train_loader)\n",
        "val_preproc = preprocess_dataset(resnet, val_loader)"
      ]
    },
    {
      "cell_type": "markdown",
      "metadata": {},
      "source": [
        "### Save features"
      ]
    },
    {
      "cell_type": "code",
      "execution_count": 51,
      "metadata": {},
      "outputs": [],
      "source": [
        "train_preproc_path = data_path + \"train_preproc.pth\"\n",
        "val_preproc_path = data_path + \"val_preproc.pth\"\n",
        "torch.save(train_preproc.tensors, train_preproc_path)\n",
        "torch.save(val_preproc.tensors, val_preproc_path)"
      ]
    },
    {
      "cell_type": "markdown",
      "metadata": {},
      "source": [
        "### Load features"
      ]
    },
    {
      "cell_type": "code",
      "execution_count": 52,
      "metadata": {},
      "outputs": [],
      "source": [
        "train_preproc_path = data_path + \"train_preproc.pth\"\n",
        "val_preproc_path = data_path + \"val_preproc.pth\"\n",
        "train_preproc_data = TensorDataset(*torch.load(train_preproc_path))\n",
        "val_preproc_data = TensorDataset(*torch.load(val_preproc_path))\n",
        "train_preproc_loader = DataLoader(train_preproc_data, batch_size=16, shuffle=True)\n",
        "val_preproc_loader = DataLoader(val_preproc_data, batch_size=16)"
      ]
    },
    {
      "cell_type": "markdown",
      "metadata": {},
      "source": [
        "## Top model"
      ]
    },
    {
      "cell_type": "markdown",
      "metadata": {},
      "source": [
        "### Model configuration"
      ]
    },
    {
      "cell_type": "code",
      "execution_count": 53,
      "metadata": {},
      "outputs": [],
      "source": [
        "torch.manual_seed(42)\n",
        "top_model = nn.Sequential(nn.Linear(512, 3))\n",
        "multi_loss_fn = nn.CrossEntropyLoss(reduction='mean')\n",
        "optimizer_top = optim.Adam(top_model.parameters(), lr=3e-4)"
      ]
    },
    {
      "cell_type": "markdown",
      "metadata": {},
      "source": [
        "### Model training and evaluation"
      ]
    },
    {
      "cell_type": "code",
      "execution_count": 78,
      "metadata": {},
      "outputs": [
        {
          "name": "stdout",
          "output_type": "stream",
          "text": [
            "\n",
            "EPOCH 1\n",
            "\n",
            "Paper\n",
            "Precission: 0.9670\n",
            "Recall: 0.7097\n",
            "F1: 0.8186\n",
            "\n",
            "Rock\n",
            "Precission: 0.7654\n",
            "Recall: 1.0000\n",
            "F1: 0.8671\n",
            "\n",
            "Scissors\n",
            "Precission: 0.8824\n",
            "Recall: 0.8468\n",
            "F1: 0.8642\n",
            "\n",
            "EPOCH 2\n",
            "\n",
            "Paper\n",
            "Precission: 0.9620\n",
            "Recall: 0.6129\n",
            "F1: 0.7488\n",
            "\n",
            "Rock\n",
            "Precission: 0.7126\n",
            "Recall: 1.0000\n",
            "F1: 0.8322\n",
            "\n",
            "Scissors\n",
            "Precission: 0.8655\n",
            "Recall: 0.8306\n",
            "F1: 0.8477\n",
            "\n",
            "EPOCH 3\n",
            "\n",
            "Paper\n",
            "Precission: 0.9639\n",
            "Recall: 0.6452\n",
            "F1: 0.7729\n",
            "\n",
            "Rock\n",
            "Precission: 0.7425\n",
            "Recall: 1.0000\n",
            "F1: 0.8522\n",
            "\n",
            "Scissors\n",
            "Precission: 0.8607\n",
            "Recall: 0.8468\n",
            "F1: 0.8537\n",
            "\n",
            "EPOCH 4\n",
            "\n",
            "Paper\n",
            "Precission: 0.9615\n",
            "Recall: 0.6048\n",
            "F1: 0.7426\n",
            "\n",
            "Rock\n",
            "Precission: 0.7209\n",
            "Recall: 1.0000\n",
            "F1: 0.8378\n",
            "\n",
            "Scissors\n",
            "Precission: 0.8607\n",
            "Recall: 0.8468\n",
            "F1: 0.8537\n",
            "\n",
            "EPOCH 5\n",
            "\n",
            "Paper\n",
            "Precission: 0.9639\n",
            "Recall: 0.6452\n",
            "F1: 0.7729\n",
            "\n",
            "Rock\n",
            "Precission: 0.7425\n",
            "Recall: 1.0000\n",
            "F1: 0.8522\n",
            "\n",
            "Scissors\n",
            "Precission: 0.8607\n",
            "Recall: 0.8468\n",
            "F1: 0.8537\n",
            "\n",
            "EPOCH 6\n",
            "\n",
            "Paper\n",
            "Precission: 0.9630\n",
            "Recall: 0.6290\n",
            "F1: 0.7610\n",
            "\n",
            "Rock\n",
            "Precission: 0.7045\n",
            "Recall: 1.0000\n",
            "F1: 0.8267\n",
            "\n",
            "Scissors\n",
            "Precission: 0.8783\n",
            "Recall: 0.8145\n",
            "F1: 0.8452\n",
            "\n",
            "EPOCH 7\n",
            "\n",
            "Paper\n",
            "Precission: 0.9630\n",
            "Recall: 0.6290\n",
            "F1: 0.7610\n",
            "\n",
            "Rock\n",
            "Precission: 0.7337\n",
            "Recall: 1.0000\n",
            "F1: 0.8464\n",
            "\n",
            "Scissors\n",
            "Precission: 0.8607\n",
            "Recall: 0.8468\n",
            "F1: 0.8537\n",
            "\n",
            "EPOCH 8\n",
            "\n",
            "Paper\n",
            "Precission: 0.9643\n",
            "Recall: 0.6532\n",
            "F1: 0.7788\n",
            "\n",
            "Rock\n",
            "Precission: 0.7470\n",
            "Recall: 1.0000\n",
            "F1: 0.8552\n",
            "\n",
            "Scissors\n",
            "Precission: 0.8607\n",
            "Recall: 0.8468\n",
            "F1: 0.8537\n",
            "\n",
            "EPOCH 9\n",
            "\n",
            "Paper\n",
            "Precission: 0.9630\n",
            "Recall: 0.6290\n",
            "F1: 0.7610\n",
            "\n",
            "Rock\n",
            "Precission: 0.7337\n",
            "Recall: 1.0000\n",
            "F1: 0.8464\n",
            "\n",
            "Scissors\n",
            "Precission: 0.8607\n",
            "Recall: 0.8468\n",
            "F1: 0.8537\n",
            "\n",
            "EPOCH 10\n",
            "\n",
            "Paper\n",
            "Precission: 0.9630\n",
            "Recall: 0.6290\n",
            "F1: 0.7610\n",
            "\n",
            "Rock\n",
            "Precission: 0.7337\n",
            "Recall: 1.0000\n",
            "F1: 0.8464\n",
            "\n",
            "Scissors\n",
            "Precission: 0.8607\n",
            "Recall: 0.8468\n",
            "F1: 0.8537\n"
          ]
        }
      ],
      "source": [
        "import numpy as np\n",
        "\n",
        "def evaluate(model, data_loader):\n",
        "    model.eval()\n",
        "    n_dims = 0\n",
        "    with torch.no_grad():\n",
        "        for x, y in data_loader:\n",
        "            y_pred = model(x)\n",
        "            _, n_dims = y_pred.shape\n",
        "            break\n",
        "    true_positives = np.zeros(n_dims)\n",
        "    false_positives = np.zeros(n_dims)\n",
        "    true_negatives = np.zeros(n_dims)\n",
        "    false_negatives = np.zeros(n_dims)\n",
        "    with torch.no_grad():\n",
        "        for x, y in data_loader:\n",
        "            y_pred = model(x)\n",
        "            _, predicted = torch.max(y_pred, 1)\n",
        "\n",
        "            for c in range(n_dims):\n",
        "                true_positives[c] += (predicted[y == c] == c).sum().item()\n",
        "                false_positives[c] += (predicted[y != c] == c).sum().item()\n",
        "                false_negatives[c] += (predicted[y == c] != c).sum().item()\n",
        "                true_negatives[c] += (predicted[y != c] != c).sum().item()\n",
        "\n",
        "    for i in range(n_dims):\n",
        "        precision = true_positives[i] / (true_positives[i] + false_positives[i])\n",
        "        recall = true_positives[i] / (true_positives[i] + false_negatives[i])\n",
        "        f1 = 2 * (precision * recall) / (precision + recall)\n",
        "        print(f\"\\n{class_names[i].capitalize()}\")\n",
        "        print(f\"Precission: {precision:.4f}\")\n",
        "        print(f\"Recall: {recall:.4f}\")\n",
        "        print(f\"F1: {f1:.4f}\")\n",
        "\n",
        "def train(model, train_loader, val_loader, loss_fn, optimizer, n_epochs):\n",
        "    for epoch in range(n_epochs):\n",
        "        model.train()\n",
        "        for x, y in train_loader:\n",
        "            optimizer.zero_grad()\n",
        "            y_pred = model(x)\n",
        "            loss = loss_fn(y_pred, y.long())\n",
        "            loss.backward()\n",
        "            optimizer.step()\n",
        "\n",
        "        print(f\"\\nEPOCH {epoch + 1}\")\n",
        "        evaluate(model, val_loader)\n",
        "\n",
        "train(top_model, train_preproc_loader, val_preproc_loader, multi_loss_fn, optimizer_top, 10)"
      ]
    },
    {
      "cell_type": "markdown",
      "metadata": {},
      "source": [
        "## Using the original dataset"
      ]
    },
    {
      "cell_type": "markdown",
      "metadata": {},
      "source": [
        "### Reattach the top model"
      ]
    },
    {
      "cell_type": "code",
      "execution_count": 79,
      "metadata": {},
      "outputs": [
        {
          "name": "stdout",
          "output_type": "stream",
          "text": [
            "\n",
            "Paper\n",
            "Precission: 0.9630\n",
            "Recall: 0.6290\n",
            "F1: 0.7610\n",
            "\n",
            "Rock\n",
            "Precission: 0.7337\n",
            "Recall: 1.0000\n",
            "F1: 0.8464\n",
            "\n",
            "Scissors\n",
            "Precission: 0.8607\n",
            "Recall: 0.8468\n",
            "F1: 0.8537\n"
          ]
        }
      ],
      "source": [
        "resnet.fc = top_model\n",
        "evaluate(resnet, val_loader)"
      ]
    }
  ],
  "metadata": {
    "colab": {
      "provenance": []
    },
    "kernelspec": {
      "display_name": "Python 3",
      "name": "python3"
    },
    "language_info": {
      "codemirror_mode": {
        "name": "ipython",
        "version": 3
      },
      "file_extension": ".py",
      "mimetype": "text/x-python",
      "name": "python",
      "nbconvert_exporter": "python",
      "pygments_lexer": "ipython3",
      "version": "3.12.3"
    }
  },
  "nbformat": 4,
  "nbformat_minor": 0
}
