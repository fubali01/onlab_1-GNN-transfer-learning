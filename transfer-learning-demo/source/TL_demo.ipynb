{
  "cells": [
    {
      "cell_type": "code",
      "execution_count": 1,
      "metadata": {
        "id": "FAammikitUbH"
      },
      "outputs": [],
      "source": [
        "import torch\n",
        "import torch.optim as optim\n",
        "import torch.nn as nn\n",
        "import torch.nn.functional as F\n",
        "\n",
        "from torch.utils.data import DataLoader, Dataset, random_split, TensorDataset\n",
        "from torchvision.transforms import Compose, ToTensor, Normalize, Resize, ToPILImage, CenterCrop, RandomResizedCrop\n",
        "from torchvision.datasets import ImageFolder\n",
        "from torchvision.models import alexnet, resnet18, inception_v3\n",
        "\n",
        "from torchvision.models.alexnet import AlexNet_Weights\n",
        "from torchvision.models.inception import Inception_V3_Weights\n",
        "from torchvision.models.resnet import ResNet18_Weights"
      ]
    },
    {
      "cell_type": "code",
      "execution_count": 2,
      "metadata": {},
      "outputs": [
        {
          "name": "stdout",
          "output_type": "stream",
          "text": [
            "rps folder already exists!\n",
            "rps-test-set folder already exists!\n"
          ]
        }
      ],
      "source": [
        "from download_rps import download_rps\n",
        "\n",
        "data_path = \"../data/\"\n",
        "train_data_path = data_path + \"rps\"\n",
        "val_data_path = data_path + \"rps-test-set\"\n",
        "download_rps(data_path)"
      ]
    },
    {
      "cell_type": "code",
      "execution_count": 8,
      "metadata": {},
      "outputs": [],
      "source": [
        "# ImageNet statistics\n",
        "normalizer = Normalize(mean=[0.485, 0.456, 0.406], std=[0.229, 0.224, 0.225])\n",
        "transformer = Compose([Resize(256), CenterCrop(224), ToTensor(), normalizer])\n",
        "\n",
        "#transformer = ResNet18_Weights.IMAGENET1K_V1.transforms\n",
        "\n",
        "train_data = ImageFolder(root=train_data_path, transform=transformer)\n",
        "val_data = ImageFolder(root=val_data_path, transform=transformer)\n",
        "\n",
        "# Builds a loader of each set\n",
        "train_loader = DataLoader(train_data, batch_size=16, shuffle=True)\n",
        "val_loader = DataLoader(val_data, batch_size=16)"
      ]
    },
    {
      "cell_type": "code",
      "execution_count": 9,
      "metadata": {},
      "outputs": [],
      "source": [
        "resnet = resnet18(weights=ResNet18_Weights.DEFAULT)"
      ]
    },
    {
      "cell_type": "code",
      "execution_count": 10,
      "metadata": {},
      "outputs": [],
      "source": [
        "def freeze_model(model):\n",
        "    for parameter in model.parameters():\n",
        "        parameter.requires_grad = False"
      ]
    },
    {
      "cell_type": "code",
      "execution_count": 11,
      "metadata": {},
      "outputs": [
        {
          "data": {
            "text/plain": [
              "<torch._C.Generator at 0x1fa114a3df0>"
            ]
          },
          "execution_count": 11,
          "metadata": {},
          "output_type": "execute_result"
        }
      ],
      "source": [
        "torch.manual_seed(42)"
      ]
    },
    {
      "cell_type": "code",
      "execution_count": 12,
      "metadata": {},
      "outputs": [],
      "source": [
        "def preprocessed_dataset(model, loader, device=None):\n",
        "    if device is None:\n",
        "        device = next(model.parameters()).device\n",
        "\n",
        "    features = None\n",
        "    labels = None\n",
        "\n",
        "    for i, (x, y) in enumerate(loader):\n",
        "        model.eval()\n",
        "        x = x.to(device)\n",
        "        output = model(x)\n",
        "        if i == 0:\n",
        "            features = output.detach().cpu()\n",
        "            labels = y.cpu()\n",
        "        else:\n",
        "            features = torch.cat([features, output.detach().cpu()])\n",
        "            labels = torch.cat([labels, y.cpu()])\n",
        "\n",
        "    dataset = TensorDataset(features, labels)\n",
        "    return dataset"
      ]
    },
    {
      "cell_type": "code",
      "execution_count": 13,
      "metadata": {},
      "outputs": [],
      "source": [
        "from preprocessed_dataset import preprocessed_dataset\n",
        "\n",
        "# Change the top layer to Identity\n",
        "resnet.fc = nn.Identity()\n",
        "# Freeze the model\n",
        "freeze_model(resnet)\n",
        "\n",
        "train_preproc = preprocessed_dataset(resnet, train_loader)\n",
        "val_preproc = preprocessed_dataset(resnet, val_loader)"
      ]
    },
    {
      "cell_type": "code",
      "execution_count": null,
      "metadata": {},
      "outputs": [],
      "source": [
        "torch.save(train_preproc.tensors, data_path + \"train_preproc.pth\")\n",
        "torch.save(val_preproc.tensors, data_path + \"val_preproc.pth\")\n",
        "train_preproc_loader = DataLoader(train_preproc, batch_size=16, shuffle=True)\n",
        "val_preproc_loader = DataLoader(val_preproc, batch_size=16)"
      ]
    }
  ],
  "metadata": {
    "colab": {
      "provenance": []
    },
    "kernelspec": {
      "display_name": "Python 3",
      "name": "python3"
    },
    "language_info": {
      "codemirror_mode": {
        "name": "ipython",
        "version": 3
      },
      "file_extension": ".py",
      "mimetype": "text/x-python",
      "name": "python",
      "nbconvert_exporter": "python",
      "pygments_lexer": "ipython3",
      "version": "3.12.3"
    }
  },
  "nbformat": 4,
  "nbformat_minor": 0
}
