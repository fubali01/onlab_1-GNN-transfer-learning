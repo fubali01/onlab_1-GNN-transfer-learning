{
  "cells": [
    {
      "cell_type": "markdown",
      "metadata": {},
      "source": [
        "## Imports"
      ]
    },
    {
      "cell_type": "code",
      "execution_count": 1,
      "metadata": {
        "id": "FAammikitUbH"
      },
      "outputs": [],
      "source": [
        "import torch\n",
        "import torch.optim as optim\n",
        "import torch.nn as nn\n",
        "import torch.nn.functional as F\n",
        "\n",
        "from torch.utils.data import DataLoader, TensorDataset\n",
        "from torchvision.transforms import Compose, ToTensor, Normalize, Resize, CenterCrop\n",
        "from torchvision.datasets import ImageFolder\n",
        "from torchvision.models import resnet18\n",
        "from torchvision.models.resnet import ResNet18_Weights"
      ]
    },
    {
      "cell_type": "markdown",
      "metadata": {},
      "source": [
        "## Data preparation"
      ]
    },
    {
      "cell_type": "code",
      "execution_count": 2,
      "metadata": {},
      "outputs": [
        {
          "name": "stdout",
          "output_type": "stream",
          "text": [
            "rps folder already exists!\n",
            "rps-test-set folder already exists!\n"
          ]
        }
      ],
      "source": [
        "from download_rps import download_rps\n",
        "\n",
        "data_path = \"../data/\"\n",
        "train_data_path = data_path + \"rps\"\n",
        "val_data_path = data_path + \"rps-test-set\"\n",
        "download_rps(data_path)\n",
        "class_names = [\"paper\", \"rock\", \"scissors\"]"
      ]
    },
    {
      "cell_type": "code",
      "execution_count": 3,
      "metadata": {},
      "outputs": [],
      "source": [
        "# ImageNet statistics\n",
        "normalizer = Normalize(mean=[0.485, 0.456, 0.406], std=[0.229, 0.224, 0.225])\n",
        "transformer = Compose([Resize(256), CenterCrop(224), ToTensor(), normalizer])\n",
        "\n",
        "# Builds a dataset of each set\n",
        "train_data = ImageFolder(root=train_data_path, transform=transformer)\n",
        "val_data = ImageFolder(root=val_data_path, transform=transformer)\n",
        "\n",
        "# Builds a loader of each set\n",
        "train_loader = DataLoader(train_data, batch_size=16, shuffle=True)\n",
        "val_loader = DataLoader(val_data, batch_size=16)"
      ]
    },
    {
      "cell_type": "markdown",
      "metadata": {},
      "source": [
        "## Feature extraction"
      ]
    },
    {
      "cell_type": "markdown",
      "metadata": {},
      "source": [
        "### Model configuration"
      ]
    },
    {
      "cell_type": "code",
      "execution_count": 4,
      "metadata": {},
      "outputs": [],
      "source": [
        "def freeze_model(model):\n",
        "    for parameter in model.parameters():\n",
        "        parameter.requires_grad = False\n",
        "\n",
        "# Set the seed\n",
        "torch.manual_seed(42)\n",
        "\n",
        "# Load the model\n",
        "resnet = resnet18(weights=ResNet18_Weights.DEFAULT)\n",
        "\n",
        "# Change the top layer to Identity\n",
        "resnet.fc = nn.Identity()\n",
        "# Freeze the model\n",
        "freeze_model(resnet)"
      ]
    },
    {
      "cell_type": "markdown",
      "metadata": {},
      "source": [
        "### Preprocess data"
      ]
    },
    {
      "cell_type": "code",
      "execution_count": 5,
      "metadata": {},
      "outputs": [],
      "source": [
        "def preprocess_dataset(model, dataset):\n",
        "    features = torch.Tensor()\n",
        "    labels = torch.Tensor()\n",
        "    for x, y in dataset:\n",
        "        model.eval()\n",
        "        features = torch.cat([features, model(x)])\n",
        "        labels = torch.cat([labels, y])\n",
        "\n",
        "    dataset = TensorDataset(features, labels)\n",
        "    return dataset\n",
        "\n",
        "# Preprocess the data\n",
        "train_preproc = preprocess_dataset(resnet, train_loader)\n",
        "val_preproc = preprocess_dataset(resnet, val_loader)"
      ]
    },
    {
      "cell_type": "markdown",
      "metadata": {},
      "source": [
        "### Save features"
      ]
    },
    {
      "cell_type": "code",
      "execution_count": 6,
      "metadata": {},
      "outputs": [],
      "source": [
        "train_preproc_path = data_path + \"train_preproc.pth\"\n",
        "val_preproc_path = data_path + \"val_preproc.pth\"\n",
        "torch.save(train_preproc.tensors, train_preproc_path)\n",
        "torch.save(val_preproc.tensors, val_preproc_path)"
      ]
    },
    {
      "cell_type": "markdown",
      "metadata": {},
      "source": [
        "### Load features"
      ]
    },
    {
      "cell_type": "code",
      "execution_count": 7,
      "metadata": {},
      "outputs": [],
      "source": [
        "train_preproc_path = data_path + \"train_preproc.pth\"\n",
        "val_preproc_path = data_path + \"val_preproc.pth\"\n",
        "train_preproc_data = TensorDataset(*torch.load(train_preproc_path))\n",
        "val_preproc_data = TensorDataset(*torch.load(val_preproc_path))\n",
        "train_preproc_loader = DataLoader(train_preproc_data, batch_size=16, shuffle=True)\n",
        "val_preproc_loader = DataLoader(val_preproc_data, batch_size=16)"
      ]
    },
    {
      "cell_type": "markdown",
      "metadata": {},
      "source": [
        "## Top model"
      ]
    },
    {
      "cell_type": "markdown",
      "metadata": {},
      "source": [
        "### Model configuration"
      ]
    },
    {
      "cell_type": "code",
      "execution_count": 8,
      "metadata": {},
      "outputs": [],
      "source": [
        "torch.manual_seed(42)\n",
        "top_model = nn.Sequential(nn.Linear(512, 3))\n",
        "multi_loss_fn = nn.CrossEntropyLoss(reduction='mean')\n",
        "optimizer_top = optim.Adam(top_model.parameters(), lr=3e-4)"
      ]
    },
    {
      "cell_type": "markdown",
      "metadata": {},
      "source": [
        "### Model training and evaluation"
      ]
    },
    {
      "cell_type": "code",
      "execution_count": 9,
      "metadata": {},
      "outputs": [],
      "source": [
        "import numpy as np\n",
        "\n",
        "def evaluate(model, data_loader):\n",
        "    model.eval()\n",
        "    n_dims = 0\n",
        "    with torch.no_grad():\n",
        "        for x, y in data_loader:\n",
        "            y_pred = model(x)\n",
        "            _, n_dims = y_pred.shape\n",
        "            break\n",
        "    true_positives = np.zeros(n_dims)\n",
        "    false_positives = np.zeros(n_dims)\n",
        "    true_negatives = np.zeros(n_dims)\n",
        "    false_negatives = np.zeros(n_dims)\n",
        "    with torch.no_grad():\n",
        "        for x, y in data_loader:\n",
        "            y_pred = model(x)\n",
        "            _, predicted = torch.max(y_pred, 1)\n",
        "\n",
        "            for c in range(n_dims):\n",
        "                true_positives[c] += (predicted[y == c] == c).sum().item()\n",
        "                false_positives[c] += (predicted[y != c] == c).sum().item()\n",
        "                false_negatives[c] += (predicted[y == c] != c).sum().item()\n",
        "                true_negatives[c] += (predicted[y != c] != c).sum().item()\n",
        "\n",
        "    for i in range(n_dims):\n",
        "        precision = true_positives[i] / (true_positives[i] + false_positives[i])\n",
        "        recall = true_positives[i] / (true_positives[i] + false_negatives[i])\n",
        "        f1 = 2 * (precision * recall) / (precision + recall)\n",
        "        print(f\"\\n{class_names[i].capitalize()}\")\n",
        "        print(f\"Precision: {precision:.4f}\")\n",
        "        print(f\"Recall: {recall:.4f}\")\n",
        "        print(f\"F1: {f1:.4f}\")\n",
        "\n",
        "def train(model, train_loader, val_loader, loss_fn, optimizer, n_epochs):\n",
        "    for epoch in range(n_epochs):\n",
        "        model.train()\n",
        "        for x, y in train_loader:\n",
        "            optimizer.zero_grad()\n",
        "            y_pred = model(x)\n",
        "            loss = loss_fn(y_pred, y.long())\n",
        "            loss.backward()\n",
        "            optimizer.step()\n",
        "\n",
        "        print(f\"\\nEPOCH {epoch + 1}\")\n",
        "        evaluate(model, val_loader)"
      ]
    },
    {
      "cell_type": "markdown",
      "metadata": {},
      "source": [
        "## Using the original dataset"
      ]
    },
    {
      "cell_type": "markdown",
      "metadata": {},
      "source": [
        "### Reattach the top model"
      ]
    },
    {
      "cell_type": "markdown",
      "metadata": {},
      "source": [
        "### Training"
      ]
    },
    {
      "cell_type": "code",
      "execution_count": 10,
      "metadata": {},
      "outputs": [
        {
          "name": "stdout",
          "output_type": "stream",
          "text": [
            "\n",
            "EPOCH 1\n",
            "\n",
            "Paper\n",
            "Precision: 0.8532\n",
            "Recall: 0.7500\n",
            "F1: 0.7983\n",
            "\n",
            "Rock\n",
            "Precision: 0.8794\n",
            "Recall: 1.0000\n",
            "F1: 0.9358\n",
            "\n",
            "Scissors\n",
            "Precision: 0.8279\n",
            "Recall: 0.8145\n",
            "F1: 0.8211\n",
            "\n",
            "EPOCH 2\n",
            "\n",
            "Paper\n",
            "Precision: 0.9091\n",
            "Recall: 0.6452\n",
            "F1: 0.7547\n",
            "\n",
            "Rock\n",
            "Precision: 0.6927\n",
            "Recall: 1.0000\n",
            "F1: 0.8185\n",
            "\n",
            "Scissors\n",
            "Precision: 0.8476\n",
            "Recall: 0.7177\n",
            "F1: 0.7773\n",
            "\n",
            "EPOCH 3\n",
            "\n",
            "Paper\n",
            "Precision: 0.8632\n",
            "Recall: 0.8145\n",
            "F1: 0.8382\n",
            "\n",
            "Rock\n",
            "Precision: 0.8378\n",
            "Recall: 1.0000\n",
            "F1: 0.9118\n",
            "\n",
            "Scissors\n",
            "Precision: 0.9065\n",
            "Recall: 0.7823\n",
            "F1: 0.8398\n",
            "\n",
            "EPOCH 4\n",
            "\n",
            "Paper\n",
            "Precision: 0.9271\n",
            "Recall: 0.7177\n",
            "F1: 0.8091\n",
            "\n",
            "Rock\n",
            "Precision: 0.8105\n",
            "Recall: 1.0000\n",
            "F1: 0.8953\n",
            "\n",
            "Scissors\n",
            "Precision: 0.8618\n",
            "Recall: 0.8548\n",
            "F1: 0.8583\n",
            "\n",
            "EPOCH 5\n",
            "\n",
            "Paper\n",
            "Precision: 0.8919\n",
            "Recall: 0.7984\n",
            "F1: 0.8426\n",
            "\n",
            "Rock\n",
            "Precision: 0.8158\n",
            "Recall: 1.0000\n",
            "F1: 0.8986\n",
            "\n",
            "Scissors\n",
            "Precision: 0.9083\n",
            "Recall: 0.7984\n",
            "F1: 0.8498\n",
            "\n",
            "EPOCH 6\n",
            "\n",
            "Paper\n",
            "Precision: 0.8772\n",
            "Recall: 0.8065\n",
            "F1: 0.8403\n",
            "\n",
            "Rock\n",
            "Precision: 0.8611\n",
            "Recall: 1.0000\n",
            "F1: 0.9254\n",
            "\n",
            "Scissors\n",
            "Precision: 0.8947\n",
            "Recall: 0.8226\n",
            "F1: 0.8571\n",
            "\n",
            "EPOCH 7\n",
            "\n",
            "Paper\n",
            "Precision: 0.9505\n",
            "Recall: 0.7742\n",
            "F1: 0.8533\n",
            "\n",
            "Rock\n",
            "Precision: 0.7607\n",
            "Recall: 1.0000\n",
            "F1: 0.8641\n",
            "\n",
            "Scissors\n",
            "Precision: 0.9074\n",
            "Recall: 0.7903\n",
            "F1: 0.8448\n",
            "\n",
            "EPOCH 8\n",
            "\n",
            "Paper\n",
            "Precision: 0.9500\n",
            "Recall: 0.7661\n",
            "F1: 0.8482\n",
            "\n",
            "Rock\n",
            "Precision: 0.7607\n",
            "Recall: 1.0000\n",
            "F1: 0.8641\n",
            "\n",
            "Scissors\n",
            "Precision: 0.9083\n",
            "Recall: 0.7984\n",
            "F1: 0.8498\n",
            "\n",
            "EPOCH 9\n",
            "\n",
            "Paper\n",
            "Precision: 0.9659\n",
            "Recall: 0.6855\n",
            "F1: 0.8019\n",
            "\n",
            "Rock\n",
            "Precision: 0.7337\n",
            "Recall: 1.0000\n",
            "F1: 0.8464\n",
            "\n",
            "Scissors\n",
            "Precision: 0.8783\n",
            "Recall: 0.8145\n",
            "F1: 0.8452\n",
            "\n",
            "EPOCH 10\n",
            "\n",
            "Paper\n",
            "Precision: 0.9588\n",
            "Recall: 0.7500\n",
            "F1: 0.8416\n",
            "\n",
            "Rock\n",
            "Precision: 0.7515\n",
            "Recall: 1.0000\n",
            "F1: 0.8581\n",
            "\n",
            "Scissors\n",
            "Precision: 0.9091\n",
            "Recall: 0.8065\n",
            "F1: 0.8547\n",
            "\n",
            "EPOCH 11\n",
            "\n",
            "Paper\n",
            "Precision: 0.9583\n",
            "Recall: 0.7419\n",
            "F1: 0.8364\n",
            "\n",
            "Rock\n",
            "Precision: 0.7654\n",
            "Recall: 1.0000\n",
            "F1: 0.8671\n",
            "\n",
            "Scissors\n",
            "Precision: 0.9035\n",
            "Recall: 0.8306\n",
            "F1: 0.8655\n"
          ]
        }
      ],
      "source": [
        "train(top_model, train_preproc_loader, val_preproc_loader, multi_loss_fn, optimizer_top, 11)"
      ]
    },
    {
      "cell_type": "markdown",
      "metadata": {},
      "source": [
        "### Evaluation"
      ]
    },
    {
      "cell_type": "code",
      "execution_count": 11,
      "metadata": {},
      "outputs": [
        {
          "name": "stdout",
          "output_type": "stream",
          "text": [
            "\n",
            "Paper\n",
            "Precision: 0.9583\n",
            "Recall: 0.7419\n",
            "F1: 0.8364\n",
            "\n",
            "Rock\n",
            "Precision: 0.7654\n",
            "Recall: 1.0000\n",
            "F1: 0.8671\n",
            "\n",
            "Scissors\n",
            "Precision: 0.9035\n",
            "Recall: 0.8306\n",
            "F1: 0.8655\n"
          ]
        }
      ],
      "source": [
        "resnet.fc = top_model\n",
        "evaluate(resnet, val_loader)"
      ]
    }
  ],
  "metadata": {
    "colab": {
      "provenance": []
    },
    "kernelspec": {
      "display_name": "Python 3",
      "name": "python3"
    },
    "language_info": {
      "codemirror_mode": {
        "name": "ipython",
        "version": 3
      },
      "file_extension": ".py",
      "mimetype": "text/x-python",
      "name": "python",
      "nbconvert_exporter": "python",
      "pygments_lexer": "ipython3",
      "version": "3.12.3"
    }
  },
  "nbformat": 4,
  "nbformat_minor": 0
}
