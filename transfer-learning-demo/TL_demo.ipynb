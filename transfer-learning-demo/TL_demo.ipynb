{
  "cells": [
    {
      "cell_type": "code",
      "execution_count": 6,
      "metadata": {
        "id": "FAammikitUbH"
      },
      "outputs": [],
      "source": [
        "import torch\n",
        "import torch.optim as optim\n",
        "import torch.nn as nn\n",
        "import torch.nn.functional as F\n",
        "\n",
        "from torch.utils.data import DataLoader, Dataset, random_split, TensorDataset\n",
        "from torchvision.transforms import Compose, ToTensor, Normalize, Resize, ToPILImage, CenterCrop, RandomResizedCrop\n",
        "from torchvision.datasets import ImageFolder\n",
        "from torchvision.models import alexnet, resnet18, inception_v3\n",
        "\n",
        "from torchvision.models.alexnet import AlexNet_Weights\n",
        "from torchvision.models.inception import Inception_V3_Weights\n",
        "from torchvision.models.resnet import ResNet18_Weights"
      ]
    },
    {
      "cell_type": "code",
      "execution_count": 7,
      "metadata": {},
      "outputs": [],
      "source": [
        "import requests\n",
        "import zipfile\n",
        "import os\n",
        "import errno\n",
        "\n",
        "def download_rps(localfolder=''):\n",
        "    filenames = ['rps.zip', 'rps-test-set.zip']\n",
        "    for filename in filenames:\n",
        "        try:\n",
        "            os.mkdir(f'{localfolder}{filename[:-4]}')\n",
        "\n",
        "            localfile = f'{localfolder}{filename}'\n",
        "            # url = 'https://storage.googleapis.com/laurencemoroney-blog.appspot.com/{}'\n",
        "            # Updated from TFDS URL at\n",
        "            # https://github.com/tensorflow/datasets/blob/master/tensorflow_datasets/datasets/rock_paper_scissors/rock_paper_scissors_dataset_builder.py\n",
        "            url = 'https://storage.googleapis.com/download.tensorflow.org/data/{}'\n",
        "            r = requests.get(url.format(filename), allow_redirects=True)\n",
        "            open(localfile, 'wb').write(r.content)\n",
        "            with zipfile.ZipFile(localfile, 'r') as zip_ref:\n",
        "                zip_ref.extractall(localfolder)        \n",
        "        except OSError as e:\n",
        "            if e.errno != errno.EEXIST:\n",
        "                raise\n",
        "            else:\n",
        "                print(f'{filename[:-4]} folder already exists!')"
      ]
    },
    {
      "cell_type": "code",
      "execution_count": 8,
      "metadata": {},
      "outputs": [],
      "source": [
        "download_rps()"
      ]
    }
  ],
  "metadata": {
    "colab": {
      "provenance": []
    },
    "kernelspec": {
      "display_name": "Python 3",
      "name": "python3"
    },
    "language_info": {
      "codemirror_mode": {
        "name": "ipython",
        "version": 3
      },
      "file_extension": ".py",
      "mimetype": "text/x-python",
      "name": "python",
      "nbconvert_exporter": "python",
      "pygments_lexer": "ipython3",
      "version": "3.12.3"
    }
  },
  "nbformat": 4,
  "nbformat_minor": 0
}
